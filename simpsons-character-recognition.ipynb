{
 "cells": [
  {
   "cell_type": "code",
   "execution_count": 1,
   "id": "65c407b0",
   "metadata": {
    "execution": {
     "iopub.execute_input": "2023-05-26T07:33:27.028730Z",
     "iopub.status.busy": "2023-05-26T07:33:27.027978Z",
     "iopub.status.idle": "2023-05-26T07:33:43.667707Z",
     "shell.execute_reply": "2023-05-26T07:33:43.666483Z"
    },
    "papermill": {
     "duration": 16.653309,
     "end_time": "2023-05-26T07:33:43.670154",
     "exception": false,
     "start_time": "2023-05-26T07:33:27.016845",
     "status": "completed"
    },
    "tags": []
   },
   "outputs": [
    {
     "name": "stdout",
     "output_type": "stream",
     "text": [
      "Collecting caer\r\n",
      "  Downloading caer-2.0.8-py3-none-any.whl (809 kB)\r\n",
      "\u001b[2K     \u001b[90m━━━━━━━━━━━━━━━━━━━━━━━━━━━━━━━━━━━━━━\u001b[0m \u001b[32m809.5/809.5 kB\u001b[0m \u001b[31m12.8 MB/s\u001b[0m eta \u001b[36m0:00:00\u001b[0m\r\n",
      "\u001b[?25hCollecting canaro\r\n",
      "  Downloading canaro-1.1.0-py3-none-any.whl (19 kB)\r\n",
      "Collecting mypy (from caer)\r\n",
      "  Downloading mypy-1.3.0-cp310-cp310-manylinux_2_17_x86_64.manylinux2014_x86_64.whl (12.2 MB)\r\n",
      "\u001b[2K     \u001b[90m━━━━━━━━━━━━━━━━━━━━━━━━━━━━━━━━━━━━━━━━\u001b[0m \u001b[32m12.2/12.2 MB\u001b[0m \u001b[31m80.3 MB/s\u001b[0m eta \u001b[36m0:00:00\u001b[0m\r\n",
      "\u001b[?25hRequirement already satisfied: numpy in /opt/conda/lib/python3.10/site-packages (from caer) (1.23.5)\r\n",
      "Requirement already satisfied: opencv-contrib-python in /opt/conda/lib/python3.10/site-packages (from caer) (4.5.4.60)\r\n",
      "Requirement already satisfied: typing-extensions in /opt/conda/lib/python3.10/site-packages (from caer) (4.5.0)\r\n",
      "Requirement already satisfied: tensorflow in /opt/conda/lib/python3.10/site-packages (from canaro) (2.12.0)\r\n",
      "Requirement already satisfied: mypy-extensions>=1.0.0 in /opt/conda/lib/python3.10/site-packages (from mypy->caer) (1.0.0)\r\n",
      "Requirement already satisfied: tomli>=1.1.0 in /opt/conda/lib/python3.10/site-packages (from mypy->caer) (2.0.1)\r\n",
      "Requirement already satisfied: absl-py>=1.0.0 in /opt/conda/lib/python3.10/site-packages (from tensorflow->canaro) (1.4.0)\r\n",
      "Requirement already satisfied: astunparse>=1.6.0 in /opt/conda/lib/python3.10/site-packages (from tensorflow->canaro) (1.6.3)\r\n",
      "Requirement already satisfied: flatbuffers>=2.0 in /opt/conda/lib/python3.10/site-packages (from tensorflow->canaro) (23.3.3)\r\n",
      "Requirement already satisfied: gast<=0.4.0,>=0.2.1 in /opt/conda/lib/python3.10/site-packages (from tensorflow->canaro) (0.4.0)\r\n",
      "Requirement already satisfied: google-pasta>=0.1.1 in /opt/conda/lib/python3.10/site-packages (from tensorflow->canaro) (0.2.0)\r\n",
      "Requirement already satisfied: grpcio<2.0,>=1.24.3 in /opt/conda/lib/python3.10/site-packages (from tensorflow->canaro) (1.51.1)\r\n",
      "Requirement already satisfied: h5py>=2.9.0 in /opt/conda/lib/python3.10/site-packages (from tensorflow->canaro) (3.8.0)\r\n",
      "Requirement already satisfied: jax>=0.3.15 in /opt/conda/lib/python3.10/site-packages (from tensorflow->canaro) (0.4.10)\r\n",
      "Requirement already satisfied: keras<2.13,>=2.12.0 in /opt/conda/lib/python3.10/site-packages (from tensorflow->canaro) (2.12.0)\r\n",
      "Requirement already satisfied: libclang>=13.0.0 in /opt/conda/lib/python3.10/site-packages (from tensorflow->canaro) (16.0.0)\r\n",
      "Requirement already satisfied: opt-einsum>=2.3.2 in /opt/conda/lib/python3.10/site-packages (from tensorflow->canaro) (3.3.0)\r\n",
      "Requirement already satisfied: packaging in /opt/conda/lib/python3.10/site-packages (from tensorflow->canaro) (21.3)\r\n",
      "Requirement already satisfied: protobuf!=4.21.0,!=4.21.1,!=4.21.2,!=4.21.3,!=4.21.4,!=4.21.5,<5.0.0dev,>=3.20.3 in /opt/conda/lib/python3.10/site-packages (from tensorflow->canaro) (3.20.3)\r\n",
      "Requirement already satisfied: setuptools in /opt/conda/lib/python3.10/site-packages (from tensorflow->canaro) (59.8.0)\r\n",
      "Requirement already satisfied: six>=1.12.0 in /opt/conda/lib/python3.10/site-packages (from tensorflow->canaro) (1.16.0)\r\n",
      "Requirement already satisfied: tensorboard<2.13,>=2.12 in /opt/conda/lib/python3.10/site-packages (from tensorflow->canaro) (2.12.3)\r\n",
      "Requirement already satisfied: tensorflow-estimator<2.13,>=2.12.0 in /opt/conda/lib/python3.10/site-packages (from tensorflow->canaro) (2.12.0)\r\n",
      "Requirement already satisfied: termcolor>=1.1.0 in /opt/conda/lib/python3.10/site-packages (from tensorflow->canaro) (2.3.0)\r\n",
      "Requirement already satisfied: wrapt<1.15,>=1.11.0 in /opt/conda/lib/python3.10/site-packages (from tensorflow->canaro) (1.14.1)\r\n",
      "Requirement already satisfied: tensorflow-io-gcs-filesystem>=0.23.1 in /opt/conda/lib/python3.10/site-packages (from tensorflow->canaro) (0.31.0)\r\n",
      "Requirement already satisfied: wheel<1.0,>=0.23.0 in /opt/conda/lib/python3.10/site-packages (from astunparse>=1.6.0->tensorflow->canaro) (0.40.0)\r\n",
      "Requirement already satisfied: ml-dtypes>=0.1.0 in /opt/conda/lib/python3.10/site-packages (from jax>=0.3.15->tensorflow->canaro) (0.1.0)\r\n",
      "Requirement already satisfied: scipy>=1.7 in /opt/conda/lib/python3.10/site-packages (from jax>=0.3.15->tensorflow->canaro) (1.10.1)\r\n",
      "Requirement already satisfied: google-auth<3,>=1.6.3 in /opt/conda/lib/python3.10/site-packages (from tensorboard<2.13,>=2.12->tensorflow->canaro) (2.17.3)\r\n",
      "Requirement already satisfied: google-auth-oauthlib<1.1,>=0.5 in /opt/conda/lib/python3.10/site-packages (from tensorboard<2.13,>=2.12->tensorflow->canaro) (1.0.0)\r\n",
      "Requirement already satisfied: markdown>=2.6.8 in /opt/conda/lib/python3.10/site-packages (from tensorboard<2.13,>=2.12->tensorflow->canaro) (3.4.3)\r\n",
      "Requirement already satisfied: requests<3,>=2.21.0 in /opt/conda/lib/python3.10/site-packages (from tensorboard<2.13,>=2.12->tensorflow->canaro) (2.28.2)\r\n",
      "Requirement already satisfied: tensorboard-data-server<0.8.0,>=0.7.0 in /opt/conda/lib/python3.10/site-packages (from tensorboard<2.13,>=2.12->tensorflow->canaro) (0.7.0)\r\n",
      "Requirement already satisfied: werkzeug>=1.0.1 in /opt/conda/lib/python3.10/site-packages (from tensorboard<2.13,>=2.12->tensorflow->canaro) (2.3.4)\r\n",
      "Requirement already satisfied: pyparsing!=3.0.5,>=2.0.2 in /opt/conda/lib/python3.10/site-packages (from packaging->tensorflow->canaro) (3.0.9)\r\n",
      "Requirement already satisfied: cachetools<6.0,>=2.0.0 in /opt/conda/lib/python3.10/site-packages (from google-auth<3,>=1.6.3->tensorboard<2.13,>=2.12->tensorflow->canaro) (4.2.4)\r\n",
      "Requirement already satisfied: pyasn1-modules>=0.2.1 in /opt/conda/lib/python3.10/site-packages (from google-auth<3,>=1.6.3->tensorboard<2.13,>=2.12->tensorflow->canaro) (0.2.7)\r\n",
      "Requirement already satisfied: rsa<5,>=3.1.4 in /opt/conda/lib/python3.10/site-packages (from google-auth<3,>=1.6.3->tensorboard<2.13,>=2.12->tensorflow->canaro) (4.9)\r\n",
      "Requirement already satisfied: requests-oauthlib>=0.7.0 in /opt/conda/lib/python3.10/site-packages (from google-auth-oauthlib<1.1,>=0.5->tensorboard<2.13,>=2.12->tensorflow->canaro) (1.3.1)\r\n",
      "Requirement already satisfied: charset-normalizer<4,>=2 in /opt/conda/lib/python3.10/site-packages (from requests<3,>=2.21.0->tensorboard<2.13,>=2.12->tensorflow->canaro) (2.1.1)\r\n",
      "Requirement already satisfied: idna<4,>=2.5 in /opt/conda/lib/python3.10/site-packages (from requests<3,>=2.21.0->tensorboard<2.13,>=2.12->tensorflow->canaro) (3.4)\r\n",
      "Requirement already satisfied: urllib3<1.27,>=1.21.1 in /opt/conda/lib/python3.10/site-packages (from requests<3,>=2.21.0->tensorboard<2.13,>=2.12->tensorflow->canaro) (1.26.15)\r\n",
      "Requirement already satisfied: certifi>=2017.4.17 in /opt/conda/lib/python3.10/site-packages (from requests<3,>=2.21.0->tensorboard<2.13,>=2.12->tensorflow->canaro) (2023.5.7)\r\n",
      "Requirement already satisfied: MarkupSafe>=2.1.1 in /opt/conda/lib/python3.10/site-packages (from werkzeug>=1.0.1->tensorboard<2.13,>=2.12->tensorflow->canaro) (2.1.2)\r\n",
      "Requirement already satisfied: pyasn1<0.5.0,>=0.4.6 in /opt/conda/lib/python3.10/site-packages (from pyasn1-modules>=0.2.1->google-auth<3,>=1.6.3->tensorboard<2.13,>=2.12->tensorflow->canaro) (0.4.8)\r\n",
      "Requirement already satisfied: oauthlib>=3.0.0 in /opt/conda/lib/python3.10/site-packages (from requests-oauthlib>=0.7.0->google-auth-oauthlib<1.1,>=0.5->tensorboard<2.13,>=2.12->tensorflow->canaro) (3.2.2)\r\n",
      "Installing collected packages: mypy, caer, canaro\r\n",
      "Successfully installed caer-2.0.8 canaro-1.1.0 mypy-1.3.0\r\n",
      "\u001b[33mWARNING: Running pip as the 'root' user can result in broken permissions and conflicting behaviour with the system package manager. It is recommended to use a virtual environment instead: https://pip.pypa.io/warnings/venv\u001b[0m\u001b[33m\r\n",
      "\u001b[0m"
     ]
    }
   ],
   "source": [
    "!pip install caer canaro"
   ]
  },
  {
   "cell_type": "code",
   "execution_count": 2,
   "id": "53b7ac96",
   "metadata": {
    "execution": {
     "iopub.execute_input": "2023-05-26T07:33:43.693951Z",
     "iopub.status.busy": "2023-05-26T07:33:43.693571Z",
     "iopub.status.idle": "2023-05-26T07:34:00.276218Z",
     "shell.execute_reply": "2023-05-26T07:34:00.275202Z"
    },
    "papermill": {
     "duration": 16.597348,
     "end_time": "2023-05-26T07:34:00.278619",
     "exception": false,
     "start_time": "2023-05-26T07:33:43.681271",
     "status": "completed"
    },
    "tags": []
   },
   "outputs": [
    {
     "name": "stderr",
     "output_type": "stream",
     "text": [
      "/opt/conda/lib/python3.10/site-packages/tensorflow_io/python/ops/__init__.py:98: UserWarning: unable to load libtensorflow_io_plugins.so: unable to open file: libtensorflow_io_plugins.so, from paths: ['/opt/conda/lib/python3.10/site-packages/tensorflow_io/python/ops/libtensorflow_io_plugins.so']\n",
      "caused by: ['/opt/conda/lib/python3.10/site-packages/tensorflow_io/python/ops/libtensorflow_io_plugins.so: undefined symbol: _ZN3tsl6StatusC1EN10tensorflow5error4CodeESt17basic_string_viewIcSt11char_traitsIcEENS_14SourceLocationE']\n",
      "  warnings.warn(f\"unable to load libtensorflow_io_plugins.so: {e}\")\n",
      "/opt/conda/lib/python3.10/site-packages/tensorflow_io/python/ops/__init__.py:104: UserWarning: file system plugins are not loaded: unable to open file: libtensorflow_io.so, from paths: ['/opt/conda/lib/python3.10/site-packages/tensorflow_io/python/ops/libtensorflow_io.so']\n",
      "caused by: ['/opt/conda/lib/python3.10/site-packages/tensorflow_io/python/ops/libtensorflow_io.so: undefined symbol: _ZTVN10tensorflow13GcsFileSystemE']\n",
      "  warnings.warn(f\"file system plugins are not loaded: {e}\")\n"
     ]
    }
   ],
   "source": [
    "import os\n",
    "import caer\n",
    "import canaro\n",
    "import cv2 as cv\n",
    "import gc\n",
    "import matplotlib.pyplot as plt\n",
    "import numpy as np"
   ]
  },
  {
   "cell_type": "code",
   "execution_count": 3,
   "id": "233bb30e",
   "metadata": {
    "execution": {
     "iopub.execute_input": "2023-05-26T07:34:00.302784Z",
     "iopub.status.busy": "2023-05-26T07:34:00.301484Z",
     "iopub.status.idle": "2023-05-26T07:34:00.306359Z",
     "shell.execute_reply": "2023-05-26T07:34:00.305501Z"
    },
    "papermill": {
     "duration": 0.018675,
     "end_time": "2023-05-26T07:34:00.308343",
     "exception": false,
     "start_time": "2023-05-26T07:34:00.289668",
     "status": "completed"
    },
    "tags": []
   },
   "outputs": [],
   "source": [
    "IMG_SIZE=(64,64)\n",
    "channels=1 #grayscale"
   ]
  },
  {
   "cell_type": "code",
   "execution_count": 4,
   "id": "7d7d7235",
   "metadata": {
    "execution": {
     "iopub.execute_input": "2023-05-26T07:34:00.331618Z",
     "iopub.status.busy": "2023-05-26T07:34:00.331007Z",
     "iopub.status.idle": "2023-05-26T07:34:00.335481Z",
     "shell.execute_reply": "2023-05-26T07:34:00.334623Z"
    },
    "papermill": {
     "duration": 0.018244,
     "end_time": "2023-05-26T07:34:00.337442",
     "exception": false,
     "start_time": "2023-05-26T07:34:00.319198",
     "status": "completed"
    },
    "tags": []
   },
   "outputs": [],
   "source": [
    "char_path=r'/kaggle/input/the-simpsons-characters-dataset/simpsons_dataset'"
   ]
  },
  {
   "cell_type": "code",
   "execution_count": 5,
   "id": "2079d9d3",
   "metadata": {
    "execution": {
     "iopub.execute_input": "2023-05-26T07:34:00.360975Z",
     "iopub.status.busy": "2023-05-26T07:34:00.360294Z",
     "iopub.status.idle": "2023-05-26T07:34:08.039544Z",
     "shell.execute_reply": "2023-05-26T07:34:08.038539Z"
    },
    "papermill": {
     "duration": 7.69328,
     "end_time": "2023-05-26T07:34:08.041657",
     "exception": false,
     "start_time": "2023-05-26T07:34:00.348377",
     "status": "completed"
    },
    "tags": []
   },
   "outputs": [
    {
     "data": {
      "text/plain": [
       "[('homer_simpson', 2246),\n",
       " ('ned_flanders', 1454),\n",
       " ('moe_szyslak', 1452),\n",
       " ('lisa_simpson', 1354),\n",
       " ('bart_simpson', 1342),\n",
       " ('marge_simpson', 1291),\n",
       " ('krusty_the_clown', 1206),\n",
       " ('principal_skinner', 1194),\n",
       " ('charles_montgomery_burns', 1193),\n",
       " ('milhouse_van_houten', 1079),\n",
       " ('chief_wiggum', 986),\n",
       " ('abraham_grampa_simpson', 913),\n",
       " ('sideshow_bob', 877),\n",
       " ('apu_nahasapeemapetilon', 623),\n",
       " ('kent_brockman', 498),\n",
       " ('comic_book_guy', 469),\n",
       " ('edna_krabappel', 457),\n",
       " ('nelson_muntz', 358),\n",
       " ('lenny_leonard', 310),\n",
       " ('mayor_quimby', 246),\n",
       " ('waylon_smithers', 181),\n",
       " ('maggie_simpson', 128),\n",
       " ('groundskeeper_willie', 121),\n",
       " ('barney_gumble', 106),\n",
       " ('selma_bouvier', 103),\n",
       " ('carl_carlson', 98),\n",
       " ('ralph_wiggum', 89),\n",
       " ('patty_bouvier', 72),\n",
       " ('martin_prince', 71),\n",
       " ('professor_john_frink', 65),\n",
       " ('snake_jailbird', 55),\n",
       " ('cletus_spuckler', 47),\n",
       " ('rainier_wolfcastle', 45),\n",
       " ('simpsons_dataset', 42),\n",
       " ('agnes_skinner', 42),\n",
       " ('sideshow_mel', 40),\n",
       " ('otto_mann', 32),\n",
       " ('fat_tony', 27),\n",
       " ('gil', 27),\n",
       " ('miss_hoover', 17),\n",
       " ('disco_stu', 8),\n",
       " ('troy_mcclure', 8),\n",
       " ('lionel_hutz', 3)]"
      ]
     },
     "execution_count": 5,
     "metadata": {},
     "output_type": "execute_result"
    }
   ],
   "source": [
    "char_dict={}\n",
    "for char in os.listdir(char_path):\n",
    "    char_dict[char]=len(os.listdir(os.path.join(char_path,char))) #how many images are in each character folder\n",
    "char_dict=caer.sort_dict(char_dict,descending=True)\n",
    "char_dict"
   ]
  },
  {
   "cell_type": "code",
   "execution_count": 6,
   "id": "7905252b",
   "metadata": {
    "execution": {
     "iopub.execute_input": "2023-05-26T07:34:08.066196Z",
     "iopub.status.busy": "2023-05-26T07:34:08.065233Z",
     "iopub.status.idle": "2023-05-26T07:34:08.073032Z",
     "shell.execute_reply": "2023-05-26T07:34:08.072120Z"
    },
    "papermill": {
     "duration": 0.021983,
     "end_time": "2023-05-26T07:34:08.074977",
     "exception": false,
     "start_time": "2023-05-26T07:34:08.052994",
     "status": "completed"
    },
    "tags": []
   },
   "outputs": [
    {
     "data": {
      "text/plain": [
       "['homer_simpson',\n",
       " 'ned_flanders',\n",
       " 'moe_szyslak',\n",
       " 'lisa_simpson',\n",
       " 'bart_simpson',\n",
       " 'marge_simpson',\n",
       " 'krusty_the_clown',\n",
       " 'principal_skinner',\n",
       " 'charles_montgomery_burns',\n",
       " 'milhouse_van_houten']"
      ]
     },
     "execution_count": 6,
     "metadata": {},
     "output_type": "execute_result"
    }
   ],
   "source": [
    "characters=list()\n",
    "count=0\n",
    "for i in char_dict:\n",
    "    characters.append(i[0])\n",
    "    count+=1\n",
    "    if count>=10:\n",
    "        break\n",
    "characters"
   ]
  },
  {
   "cell_type": "code",
   "execution_count": 7,
   "id": "3e15c075",
   "metadata": {
    "execution": {
     "iopub.execute_input": "2023-05-26T07:34:08.099190Z",
     "iopub.status.busy": "2023-05-26T07:34:08.098281Z",
     "iopub.status.idle": "2023-05-26T07:37:15.261687Z",
     "shell.execute_reply": "2023-05-26T07:37:15.260264Z"
    },
    "papermill": {
     "duration": 187.177628,
     "end_time": "2023-05-26T07:37:15.263817",
     "exception": false,
     "start_time": "2023-05-26T07:34:08.086189",
     "status": "completed"
    },
    "tags": []
   },
   "outputs": [
    {
     "name": "stdout",
     "output_type": "stream",
     "text": [
      "[INFO] Could not find a file to load from. Generating the training data\n",
      "----------------------------------------------\n",
      "[INFO] At 1000 files\n",
      "[INFO] At 2000 files\n",
      "[INFO] 2246 files found in 3.433119773864746s\n",
      "[INFO] At 1000 files\n",
      "[INFO] 1454 files found in 1.1538808345794678s\n",
      "[INFO] At 1000 files\n",
      "[INFO] 1452 files found in 1.195662021636963s\n",
      "[INFO] At 1000 files\n",
      "[INFO] 1354 files found in 0.81315016746521s\n",
      "[INFO] At 1000 files\n",
      "[INFO] 1342 files found in 0.6880018711090088s\n",
      "[INFO] At 1000 files\n",
      "[INFO] 1291 files found in 0.5795893669128418s\n",
      "[INFO] At 1000 files\n",
      "[INFO] 1206 files found in 0.20414304733276367s\n",
      "[INFO] At 1000 files\n",
      "[INFO] 1194 files found in 0.2023017406463623s\n",
      "[INFO] At 1000 files\n",
      "[INFO] 1193 files found in 0.17267346382141113s\n",
      "[INFO] At 1000 files\n",
      "[INFO] 1079 files found in 0.005099058151245117s\n",
      "----------------------------------------------\n",
      "[INFO] 13811 files preprocessed! Took 3m 7s\n"
     ]
    }
   ],
   "source": [
    "#Create train data\n",
    "train=caer.preprocess_from_dir(char_path,characters,channels=channels,IMG_SIZE=IMG_SIZE,isShuffle=True)"
   ]
  },
  {
   "cell_type": "code",
   "execution_count": 8,
   "id": "61276a9e",
   "metadata": {
    "execution": {
     "iopub.execute_input": "2023-05-26T07:37:15.290970Z",
     "iopub.status.busy": "2023-05-26T07:37:15.289259Z",
     "iopub.status.idle": "2023-05-26T07:37:15.296238Z",
     "shell.execute_reply": "2023-05-26T07:37:15.295116Z"
    },
    "papermill": {
     "duration": 0.022076,
     "end_time": "2023-05-26T07:37:15.298284",
     "exception": false,
     "start_time": "2023-05-26T07:37:15.276208",
     "status": "completed"
    },
    "tags": []
   },
   "outputs": [
    {
     "data": {
      "text/plain": [
       "13811"
      ]
     },
     "execution_count": 8,
     "metadata": {},
     "output_type": "execute_result"
    }
   ],
   "source": [
    "len(train)"
   ]
  },
  {
   "cell_type": "code",
   "execution_count": 9,
   "id": "b66018c5",
   "metadata": {
    "execution": {
     "iopub.execute_input": "2023-05-26T07:37:15.323584Z",
     "iopub.status.busy": "2023-05-26T07:37:15.323284Z",
     "iopub.status.idle": "2023-05-26T07:37:15.330335Z",
     "shell.execute_reply": "2023-05-26T07:37:15.329330Z"
    },
    "papermill": {
     "duration": 0.022381,
     "end_time": "2023-05-26T07:37:15.332554",
     "exception": false,
     "start_time": "2023-05-26T07:37:15.310173",
     "status": "completed"
    },
    "tags": []
   },
   "outputs": [
    {
     "data": {
      "text/plain": [
       "1"
      ]
     },
     "execution_count": 9,
     "metadata": {},
     "output_type": "execute_result"
    }
   ],
   "source": [
    "train.shape #contains image and its corresponding label\n",
    "train[0][1]"
   ]
  },
  {
   "cell_type": "code",
   "execution_count": 10,
   "id": "76885f69",
   "metadata": {
    "execution": {
     "iopub.execute_input": "2023-05-26T07:37:15.358741Z",
     "iopub.status.busy": "2023-05-26T07:37:15.358445Z",
     "iopub.status.idle": "2023-05-26T07:37:15.734577Z",
     "shell.execute_reply": "2023-05-26T07:37:15.733642Z"
    },
    "papermill": {
     "duration": 0.39225,
     "end_time": "2023-05-26T07:37:15.736900",
     "exception": false,
     "start_time": "2023-05-26T07:37:15.344650",
     "status": "completed"
    },
    "tags": []
   },
   "outputs": [
    {
     "data": {
      "image/png": "[encoded data removed]",
      "text/plain": [
       "<Figure size 2000x1000 with 1 Axes>"
      ]
     },
     "metadata": {},
     "output_type": "display_data"
    }
   ],
   "source": [
    "plt.figure(figsize=(20,10))\n",
    "plt.imshow(train[0][0],cmap=\"gray\")\n",
    "plt.show()"
   ]
  },
  {
   "cell_type": "code",
   "execution_count": 11,
   "id": "e074d092",
   "metadata": {
    "_kg_hide-output": true,
    "execution": {
     "iopub.execute_input": "2023-05-26T07:37:15.764725Z",
     "iopub.status.busy": "2023-05-26T07:37:15.763193Z",
     "iopub.status.idle": "2023-05-26T07:37:15.811889Z",
     "shell.execute_reply": "2023-05-26T07:37:15.810875Z"
    },
    "papermill": {
     "duration": 0.064829,
     "end_time": "2023-05-26T07:37:15.814368",
     "exception": false,
     "start_time": "2023-05-26T07:37:15.749539",
     "status": "completed"
    },
    "tags": []
   },
   "outputs": [],
   "source": [
    "featureSet,labels=caer.sep_train(train,IMG_SIZE=IMG_SIZE) "
   ]
  },
  {
   "cell_type": "code",
   "execution_count": 12,
   "id": "5063255f",
   "metadata": {
    "execution": {
     "iopub.execute_input": "2023-05-26T07:37:15.841515Z",
     "iopub.status.busy": "2023-05-26T07:37:15.841188Z",
     "iopub.status.idle": "2023-05-26T07:37:15.847042Z",
     "shell.execute_reply": "2023-05-26T07:37:15.846196Z"
    },
    "papermill": {
     "duration": 0.021638,
     "end_time": "2023-05-26T07:37:15.849051",
     "exception": false,
     "start_time": "2023-05-26T07:37:15.827413",
     "status": "completed"
    },
    "tags": []
   },
   "outputs": [
    {
     "data": {
      "text/plain": [
       "(13811, 64, 64, 1)"
      ]
     },
     "execution_count": 12,
     "metadata": {},
     "output_type": "execute_result"
    }
   ],
   "source": [
    "featureSet.shape"
   ]
  },
  {
   "cell_type": "code",
   "execution_count": 13,
   "id": "58685474",
   "metadata": {
    "execution": {
     "iopub.execute_input": "2023-05-26T07:37:15.875683Z",
     "iopub.status.busy": "2023-05-26T07:37:15.875361Z",
     "iopub.status.idle": "2023-05-26T07:37:15.880818Z",
     "shell.execute_reply": "2023-05-26T07:37:15.879985Z"
    },
    "papermill": {
     "duration": 0.021273,
     "end_time": "2023-05-26T07:37:15.882765",
     "exception": false,
     "start_time": "2023-05-26T07:37:15.861492",
     "status": "completed"
    },
    "tags": []
   },
   "outputs": [
    {
     "data": {
      "text/plain": [
       "(13811,)"
      ]
     },
     "execution_count": 13,
     "metadata": {},
     "output_type": "execute_result"
    }
   ],
   "source": [
    "labels.shape\n"
   ]
  },
  {
   "cell_type": "code",
   "execution_count": 14,
   "id": "15b47573",
   "metadata": {
    "execution": {
     "iopub.execute_input": "2023-05-26T07:37:15.911228Z",
     "iopub.status.busy": "2023-05-26T07:37:15.909697Z",
     "iopub.status.idle": "2023-05-26T07:37:15.919830Z",
     "shell.execute_reply": "2023-05-26T07:37:15.918918Z"
    },
    "papermill": {
     "duration": 0.026365,
     "end_time": "2023-05-26T07:37:15.921937",
     "exception": false,
     "start_time": "2023-05-26T07:37:15.895572",
     "status": "completed"
    },
    "tags": []
   },
   "outputs": [
    {
     "data": {
      "text/plain": [
       "(13811, 10)"
      ]
     },
     "execution_count": 14,
     "metadata": {},
     "output_type": "execute_result"
    }
   ],
   "source": [
    "labels=labels.reshape(-1,1)\n",
    "from keras.utils import to_categorical\n",
    "labels=to_categorical(labels)\n",
    "labels.shape"
   ]
  },
  {
   "cell_type": "code",
   "execution_count": 15,
   "id": "867c0a9c",
   "metadata": {
    "execution": {
     "iopub.execute_input": "2023-05-26T07:37:15.950016Z",
     "iopub.status.busy": "2023-05-26T07:37:15.949246Z",
     "iopub.status.idle": "2023-05-26T07:37:16.029123Z",
     "shell.execute_reply": "2023-05-26T07:37:16.028090Z"
    },
    "papermill": {
     "duration": 0.096293,
     "end_time": "2023-05-26T07:37:16.031765",
     "exception": false,
     "start_time": "2023-05-26T07:37:15.935472",
     "status": "completed"
    },
    "tags": []
   },
   "outputs": [],
   "source": [
    "#Normalizing the data\n",
    "featureSet=caer.normalize(featureSet)"
   ]
  },
  {
   "cell_type": "code",
   "execution_count": 16,
   "id": "bbded8f9",
   "metadata": {
    "execution": {
     "iopub.execute_input": "2023-05-26T07:37:16.060036Z",
     "iopub.status.busy": "2023-05-26T07:37:16.059715Z",
     "iopub.status.idle": "2023-05-26T07:37:16.066324Z",
     "shell.execute_reply": "2023-05-26T07:37:16.065267Z"
    },
    "papermill": {
     "duration": 0.022559,
     "end_time": "2023-05-26T07:37:16.068310",
     "exception": false,
     "start_time": "2023-05-26T07:37:16.045751",
     "status": "completed"
    },
    "tags": []
   },
   "outputs": [
    {
     "data": {
      "text/plain": [
       "(13811, 10)"
      ]
     },
     "execution_count": 16,
     "metadata": {},
     "output_type": "execute_result"
    }
   ],
   "source": [
    "labels.shape"
   ]
  },
  {
   "cell_type": "code",
   "execution_count": 17,
   "id": "3b69f288",
   "metadata": {
    "execution": {
     "iopub.execute_input": "2023-05-26T07:37:16.095604Z",
     "iopub.status.busy": "2023-05-26T07:37:16.095270Z",
     "iopub.status.idle": "2023-05-26T07:37:16.425477Z",
     "shell.execute_reply": "2023-05-26T07:37:16.424434Z"
    },
    "papermill": {
     "duration": 0.346923,
     "end_time": "2023-05-26T07:37:16.428178",
     "exception": false,
     "start_time": "2023-05-26T07:37:16.081255",
     "status": "completed"
    },
    "tags": []
   },
   "outputs": [],
   "source": [
    "x_train,x_val,y_train,y_val=caer.train_val_split(featureSet,labels,val_ratio=.2)"
   ]
  },
  {
   "cell_type": "code",
   "execution_count": 18,
   "id": "07f2ba51",
   "metadata": {
    "execution": {
     "iopub.execute_input": "2023-05-26T07:37:16.457050Z",
     "iopub.status.busy": "2023-05-26T07:37:16.455254Z",
     "iopub.status.idle": "2023-05-26T07:37:16.703338Z",
     "shell.execute_reply": "2023-05-26T07:37:16.702289Z"
    },
    "papermill": {
     "duration": 0.264752,
     "end_time": "2023-05-26T07:37:16.706038",
     "exception": false,
     "start_time": "2023-05-26T07:37:16.441286",
     "status": "completed"
    },
    "tags": []
   },
   "outputs": [
    {
     "data": {
      "text/plain": [
       "0"
      ]
     },
     "execution_count": 18,
     "metadata": {},
     "output_type": "execute_result"
    }
   ],
   "source": [
    "#deleting unnecessary variables\n",
    "del train\n",
    "del featureSet \n",
    "del labels\n",
    "gc.collect()"
   ]
  },
  {
   "cell_type": "code",
   "execution_count": 19,
   "id": "a5e5d0e5",
   "metadata": {
    "execution": {
     "iopub.execute_input": "2023-05-26T07:37:16.733635Z",
     "iopub.status.busy": "2023-05-26T07:37:16.733332Z",
     "iopub.status.idle": "2023-05-26T07:37:16.738680Z",
     "shell.execute_reply": "2023-05-26T07:37:16.737821Z"
    },
    "papermill": {
     "duration": 0.02131,
     "end_time": "2023-05-26T07:37:16.740642",
     "exception": false,
     "start_time": "2023-05-26T07:37:16.719332",
     "status": "completed"
    },
    "tags": []
   },
   "outputs": [],
   "source": [
    "BATCH_SIZE=100\n",
    "EPOCHS=10"
   ]
  },
  {
   "cell_type": "code",
   "execution_count": 20,
   "id": "4681d8cf",
   "metadata": {
    "execution": {
     "iopub.execute_input": "2023-05-26T07:37:16.767933Z",
     "iopub.status.busy": "2023-05-26T07:37:16.767644Z",
     "iopub.status.idle": "2023-05-26T07:37:16.773850Z",
     "shell.execute_reply": "2023-05-26T07:37:16.773017Z"
    },
    "papermill": {
     "duration": 0.022351,
     "end_time": "2023-05-26T07:37:16.775890",
     "exception": false,
     "start_time": "2023-05-26T07:37:16.753539",
     "status": "completed"
    },
    "tags": []
   },
   "outputs": [
    {
     "data": {
      "text/plain": [
       "(11047, 10)"
      ]
     },
     "execution_count": 20,
     "metadata": {},
     "output_type": "execute_result"
    }
   ],
   "source": [
    "#Image data generator\n",
    "datagen=canaro.generators.imageDataGenerator()\n",
    "train_gen=datagen.flow(x_train,y_train,batch_size=BATCH_SIZE)\n",
    "x_train.shape\n",
    "y_train.shape\n",
    "\n"
   ]
  },
  {
   "cell_type": "code",
   "execution_count": 21,
   "id": "6319c6be",
   "metadata": {
    "execution": {
     "iopub.execute_input": "2023-05-26T07:37:16.803544Z",
     "iopub.status.busy": "2023-05-26T07:37:16.802764Z",
     "iopub.status.idle": "2023-05-26T07:37:16.809165Z",
     "shell.execute_reply": "2023-05-26T07:37:16.808318Z"
    },
    "papermill": {
     "duration": 0.022207,
     "end_time": "2023-05-26T07:37:16.811124",
     "exception": false,
     "start_time": "2023-05-26T07:37:16.788917",
     "status": "completed"
    },
    "tags": []
   },
   "outputs": [
    {
     "data": {
      "text/plain": [
       "(2764, 10)"
      ]
     },
     "execution_count": 21,
     "metadata": {},
     "output_type": "execute_result"
    }
   ],
   "source": [
    "val_gen=datagen.flow(x_val,y_val,batch_size=BATCH_SIZE)\n",
    "y_val.shape"
   ]
  },
  {
   "cell_type": "code",
   "execution_count": 22,
   "id": "8f3fe9a3",
   "metadata": {
    "execution": {
     "iopub.execute_input": "2023-05-26T07:37:16.838956Z",
     "iopub.status.busy": "2023-05-26T07:37:16.838670Z",
     "iopub.status.idle": "2023-05-26T07:37:16.895435Z",
     "shell.execute_reply": "2023-05-26T07:37:16.894194Z"
    },
    "papermill": {
     "duration": 0.074129,
     "end_time": "2023-05-26T07:37:16.898475",
     "exception": false,
     "start_time": "2023-05-26T07:37:16.824346",
     "status": "completed"
    },
    "tags": []
   },
   "outputs": [
    {
     "name": "stdout",
     "output_type": "stream",
     "text": [
      "(100, 64, 64, 1)\n",
      "(100, 10)\n"
     ]
    }
   ],
   "source": [
    "for data,label in train_gen:\n",
    "    print(data.shape)\n",
    "    print(label.shape)\n",
    "    break"
   ]
  },
  {
   "cell_type": "code",
   "execution_count": 23,
   "id": "63198e6f",
   "metadata": {
    "execution": {
     "iopub.execute_input": "2023-05-26T07:37:16.928248Z",
     "iopub.status.busy": "2023-05-26T07:37:16.927839Z",
     "iopub.status.idle": "2023-05-26T07:37:16.932865Z",
     "shell.execute_reply": "2023-05-26T07:37:16.931893Z"
    },
    "papermill": {
     "duration": 0.022082,
     "end_time": "2023-05-26T07:37:16.934878",
     "exception": false,
     "start_time": "2023-05-26T07:37:16.912796",
     "status": "completed"
    },
    "tags": []
   },
   "outputs": [],
   "source": [
    "from keras.models import Sequential\n",
    "from keras.layers import Dense,Flatten,Conv2D,MaxPooling2D,Dropout"
   ]
  },
  {
   "cell_type": "code",
   "execution_count": 24,
   "id": "83c98dd2",
   "metadata": {
    "execution": {
     "iopub.execute_input": "2023-05-26T07:37:16.962902Z",
     "iopub.status.busy": "2023-05-26T07:37:16.962609Z",
     "iopub.status.idle": "2023-05-26T07:37:23.036262Z",
     "shell.execute_reply": "2023-05-26T07:37:23.035371Z"
    },
    "papermill": {
     "duration": 6.115438,
     "end_time": "2023-05-26T07:37:23.063751",
     "exception": false,
     "start_time": "2023-05-26T07:37:16.948313",
     "status": "completed"
    },
    "tags": []
   },
   "outputs": [
    {
     "name": "stdout",
     "output_type": "stream",
     "text": [
      "Model: \"sequential\"\n",
      "_________________________________________________________________\n",
      " Layer (type)                Output Shape              Param #   \n",
      "=================================================================\n",
      " conv2d (Conv2D)             (None, 64, 64, 32)        320       \n",
      "                                                                 \n",
      " conv2d_1 (Conv2D)           (None, 62, 62, 32)        9248      \n",
      "                                                                 \n",
      " max_pooling2d (MaxPooling2D  (None, 31, 31, 32)       0         \n",
      " )                                                               \n",
      "                                                                 \n",
      " dropout (Dropout)           (None, 31, 31, 32)        0         \n",
      "                                                                 \n",
      " conv2d_2 (Conv2D)           (None, 31, 31, 64)        18496     \n",
      "                                                                 \n",
      " conv2d_3 (Conv2D)           (None, 29, 29, 64)        36928     \n",
      "                                                                 \n",
      " max_pooling2d_1 (MaxPooling  (None, 14, 14, 64)       0         \n",
      " 2D)                                                             \n",
      "                                                                 \n",
      " dropout_1 (Dropout)         (None, 14, 14, 64)        0         \n",
      "                                                                 \n",
      " conv2d_4 (Conv2D)           (None, 14, 14, 128)       73856     \n",
      "                                                                 \n",
      " conv2d_5 (Conv2D)           (None, 12, 12, 128)       147584    \n",
      "                                                                 \n",
      " max_pooling2d_2 (MaxPooling  (None, 6, 6, 128)        0         \n",
      " 2D)                                                             \n",
      "                                                                 \n",
      " dropout_2 (Dropout)         (None, 6, 6, 128)         0         \n",
      "                                                                 \n",
      " flatten (Flatten)           (None, 4608)              0         \n",
      "                                                                 \n",
      " dense (Dense)               (None, 1024)              4719616   \n",
      "                                                                 \n",
      " dense_1 (Dense)             (None, 10)                10250     \n",
      "                                                                 \n",
      "=================================================================\n",
      "Total params: 5,016,298\n",
      "Trainable params: 5,016,298\n",
      "Non-trainable params: 0\n",
      "_________________________________________________________________\n"
     ]
    }
   ],
   "source": [
    "model=Sequential()\n",
    "model.add(Conv2D(32,(3,3),input_shape=(64,64,1),padding='same',activation='relu'))\n",
    "model.add(Conv2D(32,(3,3),activation='relu'))\n",
    "model.add(MaxPooling2D(pool_size=(2,2)))\n",
    "model.add(Dropout(0.25))\n",
    "\n",
    "model.add(Conv2D(64,(3,3),padding='same',activation='relu'))\n",
    "model.add(Conv2D(64,(3,3),activation='relu'))\n",
    "model.add(MaxPooling2D(pool_size=(2,2)))\n",
    "model.add(Dropout(0.25))\n",
    "\n",
    "model.add(Conv2D(128,(3,3),padding='same',activation='relu'))\n",
    "model.add(Conv2D(128,(3,3),activation='relu'))\n",
    "model.add(MaxPooling2D(pool_size=(2,2)))\n",
    "model.add(Dropout(0.25))\n",
    "\n",
    "model.add(Flatten())\n",
    "model.add(Dense(1024,activation='relu'))\n",
    "model.add(Dense(10,activation='softmax'))\n",
    "model.compile(optimizer='adam',metrics=['accuracy'],loss='categorical_crossentropy')\n",
    "model.summary()"
   ]
  },
  {
   "cell_type": "code",
   "execution_count": 25,
   "id": "26f02357",
   "metadata": {
    "execution": {
     "iopub.execute_input": "2023-05-26T07:37:23.099272Z",
     "iopub.status.busy": "2023-05-26T07:37:23.098918Z",
     "iopub.status.idle": "2023-05-26T07:37:23.102873Z",
     "shell.execute_reply": "2023-05-26T07:37:23.102146Z"
    },
    "papermill": {
     "duration": 0.023546,
     "end_time": "2023-05-26T07:37:23.104811",
     "exception": false,
     "start_time": "2023-05-26T07:37:23.081265",
     "status": "completed"
    },
    "tags": []
   },
   "outputs": [],
   "source": [
    "import tensorflow as tf"
   ]
  },
  {
   "cell_type": "code",
   "execution_count": 26,
   "id": "8e620257",
   "metadata": {
    "execution": {
     "iopub.execute_input": "2023-05-26T07:37:23.138871Z",
     "iopub.status.busy": "2023-05-26T07:37:23.138565Z",
     "iopub.status.idle": "2023-05-26T07:39:19.547022Z",
     "shell.execute_reply": "2023-05-26T07:39:19.546049Z"
    },
    "papermill": {
     "duration": 116.428536,
     "end_time": "2023-05-26T07:39:19.549652",
     "exception": false,
     "start_time": "2023-05-26T07:37:23.121116",
     "status": "completed"
    },
    "tags": []
   },
   "outputs": [
    {
     "name": "stdout",
     "output_type": "stream",
     "text": [
      "Epoch 1/10\n"
     ]
    },
    {
     "name": "stderr",
     "output_type": "stream",
     "text": [
      "2023-05-26 07:37:24.545898: E tensorflow/core/grappler/optimizers/meta_optimizer.cc:954] layout failed: INVALID_ARGUMENT: Size of values 0 does not match size of permutation 4 @ fanin shape insequential/dropout/dropout/SelectV2-2-TransposeNHWCToNCHW-LayoutOptimizer\n"
     ]
    },
    {
     "name": "stdout",
     "output_type": "stream",
     "text": [
      "111/111 [==============================] - 28s 101ms/step - loss: 2.2293 - accuracy: 0.1867 - val_loss: 2.1310 - val_accuracy: 0.2330\n",
      "Epoch 2/10\n",
      "111/111 [==============================] - 9s 85ms/step - loss: 2.0822 - accuracy: 0.2603 - val_loss: 1.9489 - val_accuracy: 0.3187\n",
      "Epoch 3/10\n",
      "111/111 [==============================] - 9s 85ms/step - loss: 1.8939 - accuracy: 0.3493 - val_loss: 1.7598 - val_accuracy: 0.3987\n",
      "Epoch 4/10\n",
      "111/111 [==============================] - 10s 91ms/step - loss: 1.7481 - accuracy: 0.4042 - val_loss: 1.6980 - val_accuracy: 0.4171\n",
      "Epoch 5/10\n",
      "111/111 [==============================] - 10s 86ms/step - loss: 1.5976 - accuracy: 0.4613 - val_loss: 1.4469 - val_accuracy: 0.5232\n",
      "Epoch 6/10\n",
      "111/111 [==============================] - 10s 86ms/step - loss: 1.4468 - accuracy: 0.5153 - val_loss: 1.3761 - val_accuracy: 0.5528\n",
      "Epoch 7/10\n",
      "111/111 [==============================] - 10s 91ms/step - loss: 1.3383 - accuracy: 0.5511 - val_loss: 1.2193 - val_accuracy: 0.5984\n",
      "Epoch 8/10\n",
      "111/111 [==============================] - 10s 86ms/step - loss: 1.1960 - accuracy: 0.5991 - val_loss: 1.1023 - val_accuracy: 0.6386\n",
      "Epoch 9/10\n",
      "111/111 [==============================] - 9s 84ms/step - loss: 1.1089 - accuracy: 0.6337 - val_loss: 0.9812 - val_accuracy: 0.6737\n",
      "Epoch 10/10\n",
      "111/111 [==============================] - 9s 85ms/step - loss: 1.0374 - accuracy: 0.6581 - val_loss: 0.9229 - val_accuracy: 0.6961\n"
     ]
    },
    {
     "data": {
      "text/plain": [
       "<keras.callbacks.History at 0x7e2383e49e10>"
      ]
     },
     "execution_count": 26,
     "metadata": {},
     "output_type": "execute_result"
    }
   ],
   "source": [
    "from tensorflow.keras.callbacks import EarlyStopping\n",
    "earlystop = EarlyStopping(monitor = 'val_accuracy',patience = 10,\n",
    "                          verbose = 1,\n",
    "                          mode='max',\n",
    "                          restore_best_weights = True)\n",
    "check='./Model.h5'\n",
    "model_checkpoint_callback = tf.keras.callbacks.ModelCheckpoint(\n",
    "    filepath=check,\n",
    "    save_weights_only=False,\n",
    "    monitor='val_accuracy',\n",
    "    mode='max',\n",
    "    save_best_only=True)\n",
    "callback=[earlystop,model_checkpoint_callback]\n",
    "\n",
    "model.fit(train_gen,validation_data=val_gen,callbacks=callback,epochs=EPOCHS)"
   ]
  },
  {
   "cell_type": "code",
   "execution_count": 27,
   "id": "6e2695a4",
   "metadata": {
    "execution": {
     "iopub.execute_input": "2023-05-26T07:39:19.754343Z",
     "iopub.status.busy": "2023-05-26T07:39:19.753785Z",
     "iopub.status.idle": "2023-05-26T07:39:20.053122Z",
     "shell.execute_reply": "2023-05-26T07:39:20.052174Z"
    },
    "papermill": {
     "duration": 0.402768,
     "end_time": "2023-05-26T07:39:20.055601",
     "exception": false,
     "start_time": "2023-05-26T07:39:19.652833",
     "status": "completed"
    },
    "tags": []
   },
   "outputs": [],
   "source": [
    "from tensorflow import keras\n",
    "save_model=keras.models.load_model('./Model.h5')"
   ]
  },
  {
   "cell_type": "code",
   "execution_count": 28,
   "id": "5bd7acdb",
   "metadata": {
    "execution": {
     "iopub.execute_input": "2023-05-26T07:39:20.259242Z",
     "iopub.status.busy": "2023-05-26T07:39:20.258569Z",
     "iopub.status.idle": "2023-05-26T07:39:20.263010Z",
     "shell.execute_reply": "2023-05-26T07:39:20.262140Z"
    },
    "papermill": {
     "duration": 0.10747,
     "end_time": "2023-05-26T07:39:20.265106",
     "exception": false,
     "start_time": "2023-05-26T07:39:20.157636",
     "status": "completed"
    },
    "tags": []
   },
   "outputs": [],
   "source": [
    "from tensorflow.keras.models import load_model\n",
    "from tensorflow.keras.preprocessing import image"
   ]
  },
  {
   "cell_type": "code",
   "execution_count": 29,
   "id": "414db4e8",
   "metadata": {
    "execution": {
     "iopub.execute_input": "2023-05-26T07:39:20.464083Z",
     "iopub.status.busy": "2023-05-26T07:39:20.463737Z",
     "iopub.status.idle": "2023-05-26T07:39:20.886120Z",
     "shell.execute_reply": "2023-05-26T07:39:20.884909Z"
    },
    "papermill": {
     "duration": 0.530254,
     "end_time": "2023-05-26T07:39:20.894127",
     "exception": false,
     "start_time": "2023-05-26T07:39:20.363873",
     "status": "completed"
    },
    "tags": []
   },
   "outputs": [
    {
     "data": {
      "image/png": "[encoded data removed]",
      "text/plain": [
       "<Figure size 640x480 with 1 Axes>"
      ]
     },
     "metadata": {},
     "output_type": "display_data"
    }
   ],
   "source": [
    "img_path = r\"/kaggle/input/the-simpsons-characters-dataset/kaggle_simpson_testset/kaggle_simpson_testset/bart_simpson_32.jpg\"\n",
    "\n",
    "img=cv.imread(img_path)\n",
    "\n",
    "plt.imshow(img,cmap='gray')\n",
    "plt.show()"
   ]
  },
  {
   "cell_type": "code",
   "execution_count": 30,
   "id": "33e0a31d",
   "metadata": {
    "execution": {
     "iopub.execute_input": "2023-05-26T07:39:21.250789Z",
     "iopub.status.busy": "2023-05-26T07:39:21.249978Z",
     "iopub.status.idle": "2023-05-26T07:39:21.257473Z",
     "shell.execute_reply": "2023-05-26T07:39:21.256590Z"
    },
    "papermill": {
     "duration": 0.158546,
     "end_time": "2023-05-26T07:39:21.260114",
     "exception": false,
     "start_time": "2023-05-26T07:39:21.101568",
     "status": "completed"
    },
    "tags": []
   },
   "outputs": [],
   "source": [
    "def prepare(img):\n",
    "    img=cv.cvtColor(img,cv.COLOR_BGR2GRAY)\n",
    "    img=cv.resize(img,IMG_SIZE)\n",
    "    img=caer.reshape(img,IMG_SIZE,channels=1)\n",
    "    return img"
   ]
  },
  {
   "cell_type": "code",
   "execution_count": 31,
   "id": "dfa3e62e",
   "metadata": {
    "execution": {
     "iopub.execute_input": "2023-05-26T07:39:21.549147Z",
     "iopub.status.busy": "2023-05-26T07:39:21.548741Z",
     "iopub.status.idle": "2023-05-26T07:39:22.054224Z",
     "shell.execute_reply": "2023-05-26T07:39:22.053293Z"
    },
    "papermill": {
     "duration": 0.655057,
     "end_time": "2023-05-26T07:39:22.057372",
     "exception": false,
     "start_time": "2023-05-26T07:39:21.402315",
     "status": "completed"
    },
    "tags": []
   },
   "outputs": [
    {
     "name": "stdout",
     "output_type": "stream",
     "text": [
      "1/1 [==============================] - 0s 417ms/step\n"
     ]
    }
   ],
   "source": [
    "prediction=model.predict(prepare(img))"
   ]
  },
  {
   "cell_type": "code",
   "execution_count": 32,
   "id": "92880b2c",
   "metadata": {
    "execution": {
     "iopub.execute_input": "2023-05-26T07:39:22.329144Z",
     "iopub.status.busy": "2023-05-26T07:39:22.328781Z",
     "iopub.status.idle": "2023-05-26T07:39:22.335778Z",
     "shell.execute_reply": "2023-05-26T07:39:22.334605Z"
    },
    "papermill": {
     "duration": 0.126074,
     "end_time": "2023-05-26T07:39:22.339430",
     "exception": false,
     "start_time": "2023-05-26T07:39:22.213356",
     "status": "completed"
    },
    "tags": []
   },
   "outputs": [
    {
     "data": {
      "text/plain": [
       "array([[2.42436e-21, 0.00000e+00, 0.00000e+00, 1.00000e+00, 0.00000e+00,\n",
       "        0.00000e+00, 0.00000e+00, 0.00000e+00, 0.00000e+00, 0.00000e+00]],\n",
       "      dtype=float32)"
      ]
     },
     "execution_count": 32,
     "metadata": {},
     "output_type": "execute_result"
    }
   ],
   "source": [
    "prediction"
   ]
  },
  {
   "cell_type": "code",
   "execution_count": 33,
   "id": "ee48d52c",
   "metadata": {
    "execution": {
     "iopub.execute_input": "2023-05-26T07:39:22.549206Z",
     "iopub.status.busy": "2023-05-26T07:39:22.548845Z",
     "iopub.status.idle": "2023-05-26T07:39:22.554731Z",
     "shell.execute_reply": "2023-05-26T07:39:22.553862Z"
    },
    "papermill": {
     "duration": 0.111898,
     "end_time": "2023-05-26T07:39:22.556946",
     "exception": false,
     "start_time": "2023-05-26T07:39:22.445048",
     "status": "completed"
    },
    "tags": []
   },
   "outputs": [
    {
     "data": {
      "text/plain": [
       "['homer_simpson',\n",
       " 'ned_flanders',\n",
       " 'moe_szyslak',\n",
       " 'lisa_simpson',\n",
       " 'bart_simpson',\n",
       " 'marge_simpson',\n",
       " 'krusty_the_clown',\n",
       " 'principal_skinner',\n",
       " 'charles_montgomery_burns',\n",
       " 'milhouse_van_houten']"
      ]
     },
     "execution_count": 33,
     "metadata": {},
     "output_type": "execute_result"
    }
   ],
   "source": [
    "characters"
   ]
  },
  {
   "cell_type": "code",
   "execution_count": 34,
   "id": "ebb5417d",
   "metadata": {
    "execution": {
     "iopub.execute_input": "2023-05-26T07:39:22.762759Z",
     "iopub.status.busy": "2023-05-26T07:39:22.762106Z",
     "iopub.status.idle": "2023-05-26T07:39:22.767705Z",
     "shell.execute_reply": "2023-05-26T07:39:22.766654Z"
    },
    "papermill": {
     "duration": 0.112191,
     "end_time": "2023-05-26T07:39:22.771435",
     "exception": false,
     "start_time": "2023-05-26T07:39:22.659244",
     "status": "completed"
    },
    "tags": []
   },
   "outputs": [
    {
     "name": "stdout",
     "output_type": "stream",
     "text": [
      "lisa_simpson\n"
     ]
    }
   ],
   "source": [
    "print(characters[np.argmax(prediction[0])])"
   ]
  },
  {
   "cell_type": "code",
   "execution_count": null,
   "id": "3bd54cb3",
   "metadata": {
    "papermill": {
     "duration": 0.101467,
     "end_time": "2023-05-26T07:39:22.981377",
     "exception": false,
     "start_time": "2023-05-26T07:39:22.879910",
     "status": "completed"
    },
    "tags": []
   },
   "outputs": [],
   "source": []
  }
 ],
 "metadata": {
  "kernelspec": {
   "display_name": "Python 3",
   "language": "python",
   "name": "python3"
  },
  "language_info": {
   "codemirror_mode": {
    "name": "ipython",
    "version": 3
   },
   "file_extension": ".py",
   "mimetype": "text/x-python",
   "name": "python",
   "nbconvert_exporter": "python",
   "pygments_lexer": "ipython3",
   "version": "3.10.10"
  },
  "papermill": {
   "default_parameters": {},
   "duration": 373.744656,
   "end_time": "2023-05-26T07:39:26.276702",
   "environment_variables": {},
   "exception": null,
   "input_path": "__notebook__.ipynb",
   "output_path": "__notebook__.ipynb",
   "parameters": {},
   "start_time": "2023-05-26T07:33:12.532046",
   "version": "2.4.0"
  }
 },
 "nbformat": 4,
 "nbformat_minor": 5
}
