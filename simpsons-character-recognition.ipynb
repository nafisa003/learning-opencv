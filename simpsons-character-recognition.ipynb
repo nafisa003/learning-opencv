{
 "cells": [
  {
   "cell_type": "code",
   "execution_count": 1,
   "id": "5ca8ba36",
   "metadata": {
    "execution": {
     "iopub.execute_input": "2023-05-25T07:22:20.029908Z",
     "iopub.status.busy": "2023-05-25T07:22:20.029509Z",
     "iopub.status.idle": "2023-05-25T07:22:34.878579Z",
     "shell.execute_reply": "2023-05-25T07:22:34.877369Z"
    },
    "papermill": {
     "duration": 14.860367,
     "end_time": "2023-05-25T07:22:34.881428",
     "exception": false,
     "start_time": "2023-05-25T07:22:20.021061",
     "status": "completed"
    },
    "tags": []
   },
   "outputs": [
    {
     "name": "stdout",
     "output_type": "stream",
     "text": [
      "Collecting caer\r\n",
      "  Downloading caer-2.0.8-py3-none-any.whl (809 kB)\r\n",
      "\u001b[2K     \u001b[90m━━━━━━━━━━━━━━━━━━━━━━━━━━━━━━━━━━━━━━\u001b[0m \u001b[32m809.5/809.5 kB\u001b[0m \u001b[31m14.3 MB/s\u001b[0m eta \u001b[36m0:00:00\u001b[0m\r\n",
      "\u001b[?25hCollecting canaro\r\n",
      "  Downloading canaro-1.1.0-py3-none-any.whl (19 kB)\r\n",
      "Collecting mypy (from caer)\r\n",
      "  Downloading mypy-1.3.0-cp310-cp310-manylinux_2_17_x86_64.manylinux2014_x86_64.whl (12.2 MB)\r\n",
      "\u001b[2K     \u001b[90m━━━━━━━━━━━━━━━━━━━━━━━━━━━━━━━━━━━━━━━━\u001b[0m \u001b[32m12.2/12.2 MB\u001b[0m \u001b[31m76.4 MB/s\u001b[0m eta \u001b[36m0:00:00\u001b[0m\r\n",
      "\u001b[?25hRequirement already satisfied: numpy in /opt/conda/lib/python3.10/site-packages (from caer) (1.23.5)\r\n",
      "Requirement already satisfied: opencv-contrib-python in /opt/conda/lib/python3.10/site-packages (from caer) (4.5.4.60)\r\n",
      "Requirement already satisfied: typing-extensions in /opt/conda/lib/python3.10/site-packages (from caer) (4.5.0)\r\n",
      "Requirement already satisfied: tensorflow in /opt/conda/lib/python3.10/site-packages (from canaro) (2.12.0)\r\n",
      "Requirement already satisfied: mypy-extensions>=1.0.0 in /opt/conda/lib/python3.10/site-packages (from mypy->caer) (1.0.0)\r\n",
      "Requirement already satisfied: tomli>=1.1.0 in /opt/conda/lib/python3.10/site-packages (from mypy->caer) (2.0.1)\r\n",
      "Requirement already satisfied: absl-py>=1.0.0 in /opt/conda/lib/python3.10/site-packages (from tensorflow->canaro) (1.4.0)\r\n",
      "Requirement already satisfied: astunparse>=1.6.0 in /opt/conda/lib/python3.10/site-packages (from tensorflow->canaro) (1.6.3)\r\n",
      "Requirement already satisfied: flatbuffers>=2.0 in /opt/conda/lib/python3.10/site-packages (from tensorflow->canaro) (23.3.3)\r\n",
      "Requirement already satisfied: gast<=0.4.0,>=0.2.1 in /opt/conda/lib/python3.10/site-packages (from tensorflow->canaro) (0.4.0)\r\n",
      "Requirement already satisfied: google-pasta>=0.1.1 in /opt/conda/lib/python3.10/site-packages (from tensorflow->canaro) (0.2.0)\r\n",
      "Requirement already satisfied: grpcio<2.0,>=1.24.3 in /opt/conda/lib/python3.10/site-packages (from tensorflow->canaro) (1.51.1)\r\n",
      "Requirement already satisfied: h5py>=2.9.0 in /opt/conda/lib/python3.10/site-packages (from tensorflow->canaro) (3.8.0)\r\n",
      "Requirement already satisfied: jax>=0.3.15 in /opt/conda/lib/python3.10/site-packages (from tensorflow->canaro) (0.4.10)\r\n",
      "Requirement already satisfied: keras<2.13,>=2.12.0 in /opt/conda/lib/python3.10/site-packages (from tensorflow->canaro) (2.12.0)\r\n",
      "Requirement already satisfied: libclang>=13.0.0 in /opt/conda/lib/python3.10/site-packages (from tensorflow->canaro) (16.0.0)\r\n",
      "Requirement already satisfied: opt-einsum>=2.3.2 in /opt/conda/lib/python3.10/site-packages (from tensorflow->canaro) (3.3.0)\r\n",
      "Requirement already satisfied: packaging in /opt/conda/lib/python3.10/site-packages (from tensorflow->canaro) (21.3)\r\n",
      "Requirement already satisfied: protobuf!=4.21.0,!=4.21.1,!=4.21.2,!=4.21.3,!=4.21.4,!=4.21.5,<5.0.0dev,>=3.20.3 in /opt/conda/lib/python3.10/site-packages (from tensorflow->canaro) (3.20.3)\r\n",
      "Requirement already satisfied: setuptools in /opt/conda/lib/python3.10/site-packages (from tensorflow->canaro) (59.8.0)\r\n",
      "Requirement already satisfied: six>=1.12.0 in /opt/conda/lib/python3.10/site-packages (from tensorflow->canaro) (1.16.0)\r\n",
      "Requirement already satisfied: tensorboard<2.13,>=2.12 in /opt/conda/lib/python3.10/site-packages (from tensorflow->canaro) (2.12.3)\r\n",
      "Requirement already satisfied: tensorflow-estimator<2.13,>=2.12.0 in /opt/conda/lib/python3.10/site-packages (from tensorflow->canaro) (2.12.0)\r\n",
      "Requirement already satisfied: termcolor>=1.1.0 in /opt/conda/lib/python3.10/site-packages (from tensorflow->canaro) (2.3.0)\r\n",
      "Requirement already satisfied: wrapt<1.15,>=1.11.0 in /opt/conda/lib/python3.10/site-packages (from tensorflow->canaro) (1.14.1)\r\n",
      "Requirement already satisfied: tensorflow-io-gcs-filesystem>=0.23.1 in /opt/conda/lib/python3.10/site-packages (from tensorflow->canaro) (0.31.0)\r\n",
      "Requirement already satisfied: wheel<1.0,>=0.23.0 in /opt/conda/lib/python3.10/site-packages (from astunparse>=1.6.0->tensorflow->canaro) (0.40.0)\r\n",
      "Requirement already satisfied: ml-dtypes>=0.1.0 in /opt/conda/lib/python3.10/site-packages (from jax>=0.3.15->tensorflow->canaro) (0.1.0)\r\n",
      "Requirement already satisfied: scipy>=1.7 in /opt/conda/lib/python3.10/site-packages (from jax>=0.3.15->tensorflow->canaro) (1.10.1)\r\n",
      "Requirement already satisfied: google-auth<3,>=1.6.3 in /opt/conda/lib/python3.10/site-packages (from tensorboard<2.13,>=2.12->tensorflow->canaro) (2.17.3)\r\n",
      "Requirement already satisfied: google-auth-oauthlib<1.1,>=0.5 in /opt/conda/lib/python3.10/site-packages (from tensorboard<2.13,>=2.12->tensorflow->canaro) (1.0.0)\r\n",
      "Requirement already satisfied: markdown>=2.6.8 in /opt/conda/lib/python3.10/site-packages (from tensorboard<2.13,>=2.12->tensorflow->canaro) (3.4.3)\r\n",
      "Requirement already satisfied: requests<3,>=2.21.0 in /opt/conda/lib/python3.10/site-packages (from tensorboard<2.13,>=2.12->tensorflow->canaro) (2.28.2)\r\n",
      "Requirement already satisfied: tensorboard-data-server<0.8.0,>=0.7.0 in /opt/conda/lib/python3.10/site-packages (from tensorboard<2.13,>=2.12->tensorflow->canaro) (0.7.0)\r\n",
      "Requirement already satisfied: werkzeug>=1.0.1 in /opt/conda/lib/python3.10/site-packages (from tensorboard<2.13,>=2.12->tensorflow->canaro) (2.3.4)\r\n",
      "Requirement already satisfied: pyparsing!=3.0.5,>=2.0.2 in /opt/conda/lib/python3.10/site-packages (from packaging->tensorflow->canaro) (3.0.9)\r\n",
      "Requirement already satisfied: cachetools<6.0,>=2.0.0 in /opt/conda/lib/python3.10/site-packages (from google-auth<3,>=1.6.3->tensorboard<2.13,>=2.12->tensorflow->canaro) (4.2.4)\r\n",
      "Requirement already satisfied: pyasn1-modules>=0.2.1 in /opt/conda/lib/python3.10/site-packages (from google-auth<3,>=1.6.3->tensorboard<2.13,>=2.12->tensorflow->canaro) (0.2.7)\r\n",
      "Requirement already satisfied: rsa<5,>=3.1.4 in /opt/conda/lib/python3.10/site-packages (from google-auth<3,>=1.6.3->tensorboard<2.13,>=2.12->tensorflow->canaro) (4.9)\r\n",
      "Requirement already satisfied: requests-oauthlib>=0.7.0 in /opt/conda/lib/python3.10/site-packages (from google-auth-oauthlib<1.1,>=0.5->tensorboard<2.13,>=2.12->tensorflow->canaro) (1.3.1)\r\n",
      "Requirement already satisfied: charset-normalizer<4,>=2 in /opt/conda/lib/python3.10/site-packages (from requests<3,>=2.21.0->tensorboard<2.13,>=2.12->tensorflow->canaro) (2.1.1)\r\n",
      "Requirement already satisfied: idna<4,>=2.5 in /opt/conda/lib/python3.10/site-packages (from requests<3,>=2.21.0->tensorboard<2.13,>=2.12->tensorflow->canaro) (3.4)\r\n",
      "Requirement already satisfied: urllib3<1.27,>=1.21.1 in /opt/conda/lib/python3.10/site-packages (from requests<3,>=2.21.0->tensorboard<2.13,>=2.12->tensorflow->canaro) (1.26.15)\r\n",
      "Requirement already satisfied: certifi>=2017.4.17 in /opt/conda/lib/python3.10/site-packages (from requests<3,>=2.21.0->tensorboard<2.13,>=2.12->tensorflow->canaro) (2023.5.7)\r\n",
      "Requirement already satisfied: MarkupSafe>=2.1.1 in /opt/conda/lib/python3.10/site-packages (from werkzeug>=1.0.1->tensorboard<2.13,>=2.12->tensorflow->canaro) (2.1.2)\r\n",
      "Requirement already satisfied: pyasn1<0.5.0,>=0.4.6 in /opt/conda/lib/python3.10/site-packages (from pyasn1-modules>=0.2.1->google-auth<3,>=1.6.3->tensorboard<2.13,>=2.12->tensorflow->canaro) (0.4.8)\r\n",
      "Requirement already satisfied: oauthlib>=3.0.0 in /opt/conda/lib/python3.10/site-packages (from requests-oauthlib>=0.7.0->google-auth-oauthlib<1.1,>=0.5->tensorboard<2.13,>=2.12->tensorflow->canaro) (3.2.2)\r\n",
      "Installing collected packages: mypy, caer, canaro\r\n",
      "Successfully installed caer-2.0.8 canaro-1.1.0 mypy-1.3.0\r\n",
      "\u001b[33mWARNING: Running pip as the 'root' user can result in broken permissions and conflicting behaviour with the system package manager. It is recommended to use a virtual environment instead: https://pip.pypa.io/warnings/venv\u001b[0m\u001b[33m\r\n",
      "\u001b[0m"
     ]
    }
   ],
   "source": [
    "!pip install caer canaro"
   ]
  },
  {
   "cell_type": "code",
   "execution_count": 2,
   "id": "e6984f96",
   "metadata": {
    "execution": {
     "iopub.execute_input": "2023-05-25T07:22:34.901772Z",
     "iopub.status.busy": "2023-05-25T07:22:34.900704Z",
     "iopub.status.idle": "2023-05-25T07:22:44.529108Z",
     "shell.execute_reply": "2023-05-25T07:22:44.528174Z"
    },
    "papermill": {
     "duration": 9.640839,
     "end_time": "2023-05-25T07:22:44.531703",
     "exception": false,
     "start_time": "2023-05-25T07:22:34.890864",
     "status": "completed"
    },
    "tags": []
   },
   "outputs": [
    {
     "name": "stderr",
     "output_type": "stream",
     "text": [
      "/opt/conda/lib/python3.10/site-packages/tensorflow_io/python/ops/__init__.py:98: UserWarning: unable to load libtensorflow_io_plugins.so: unable to open file: libtensorflow_io_plugins.so, from paths: ['/opt/conda/lib/python3.10/site-packages/tensorflow_io/python/ops/libtensorflow_io_plugins.so']\n",
      "caused by: ['/opt/conda/lib/python3.10/site-packages/tensorflow_io/python/ops/libtensorflow_io_plugins.so: undefined symbol: _ZN3tsl6StatusC1EN10tensorflow5error4CodeESt17basic_string_viewIcSt11char_traitsIcEENS_14SourceLocationE']\n",
      "  warnings.warn(f\"unable to load libtensorflow_io_plugins.so: {e}\")\n",
      "/opt/conda/lib/python3.10/site-packages/tensorflow_io/python/ops/__init__.py:104: UserWarning: file system plugins are not loaded: unable to open file: libtensorflow_io.so, from paths: ['/opt/conda/lib/python3.10/site-packages/tensorflow_io/python/ops/libtensorflow_io.so']\n",
      "caused by: ['/opt/conda/lib/python3.10/site-packages/tensorflow_io/python/ops/libtensorflow_io.so: undefined symbol: _ZTVN10tensorflow13GcsFileSystemE']\n",
      "  warnings.warn(f\"file system plugins are not loaded: {e}\")\n"
     ]
    }
   ],
   "source": [
    "import os\n",
    "import caer\n",
    "import canaro\n",
    "import cv2 as cv\n",
    "import gc\n",
    "import matplotlib.pyplot as plt\n",
    "import numpy as np"
   ]
  },
  {
   "cell_type": "code",
   "execution_count": 3,
   "id": "565ee867",
   "metadata": {
    "execution": {
     "iopub.execute_input": "2023-05-25T07:22:44.550692Z",
     "iopub.status.busy": "2023-05-25T07:22:44.550071Z",
     "iopub.status.idle": "2023-05-25T07:22:44.554476Z",
     "shell.execute_reply": "2023-05-25T07:22:44.553585Z"
    },
    "papermill": {
     "duration": 0.015915,
     "end_time": "2023-05-25T07:22:44.556434",
     "exception": false,
     "start_time": "2023-05-25T07:22:44.540519",
     "status": "completed"
    },
    "tags": []
   },
   "outputs": [],
   "source": [
    "IMG_SIZE=(80,80)\n",
    "channels=1 #grayscale"
   ]
  },
  {
   "cell_type": "code",
   "execution_count": 4,
   "id": "07c84f76",
   "metadata": {
    "execution": {
     "iopub.execute_input": "2023-05-25T07:22:44.573672Z",
     "iopub.status.busy": "2023-05-25T07:22:44.573400Z",
     "iopub.status.idle": "2023-05-25T07:22:44.578422Z",
     "shell.execute_reply": "2023-05-25T07:22:44.577649Z"
    },
    "papermill": {
     "duration": 0.015998,
     "end_time": "2023-05-25T07:22:44.580480",
     "exception": false,
     "start_time": "2023-05-25T07:22:44.564482",
     "status": "completed"
    },
    "tags": []
   },
   "outputs": [],
   "source": [
    "char_path=r'/kaggle/input/the-simpsons-characters-dataset/simpsons_dataset'"
   ]
  },
  {
   "cell_type": "code",
   "execution_count": 5,
   "id": "a7e6ab9c",
   "metadata": {
    "execution": {
     "iopub.execute_input": "2023-05-25T07:22:44.597599Z",
     "iopub.status.busy": "2023-05-25T07:22:44.597351Z",
     "iopub.status.idle": "2023-05-25T07:22:49.276267Z",
     "shell.execute_reply": "2023-05-25T07:22:49.275282Z"
    },
    "papermill": {
     "duration": 4.690067,
     "end_time": "2023-05-25T07:22:49.278569",
     "exception": false,
     "start_time": "2023-05-25T07:22:44.588502",
     "status": "completed"
    },
    "tags": []
   },
   "outputs": [
    {
     "data": {
      "text/plain": [
       "[('homer_simpson', 2246),\n",
       " ('ned_flanders', 1454),\n",
       " ('moe_szyslak', 1452),\n",
       " ('lisa_simpson', 1354),\n",
       " ('bart_simpson', 1342),\n",
       " ('marge_simpson', 1291),\n",
       " ('krusty_the_clown', 1206),\n",
       " ('principal_skinner', 1194),\n",
       " ('charles_montgomery_burns', 1193),\n",
       " ('milhouse_van_houten', 1079),\n",
       " ('chief_wiggum', 986),\n",
       " ('abraham_grampa_simpson', 913),\n",
       " ('sideshow_bob', 877),\n",
       " ('apu_nahasapeemapetilon', 623),\n",
       " ('kent_brockman', 498),\n",
       " ('comic_book_guy', 469),\n",
       " ('edna_krabappel', 457),\n",
       " ('nelson_muntz', 358),\n",
       " ('lenny_leonard', 310),\n",
       " ('mayor_quimby', 246),\n",
       " ('waylon_smithers', 181),\n",
       " ('maggie_simpson', 128),\n",
       " ('groundskeeper_willie', 121),\n",
       " ('barney_gumble', 106),\n",
       " ('selma_bouvier', 103),\n",
       " ('carl_carlson', 98),\n",
       " ('ralph_wiggum', 89),\n",
       " ('patty_bouvier', 72),\n",
       " ('martin_prince', 71),\n",
       " ('professor_john_frink', 65),\n",
       " ('snake_jailbird', 55),\n",
       " ('cletus_spuckler', 47),\n",
       " ('rainier_wolfcastle', 45),\n",
       " ('simpsons_dataset', 42),\n",
       " ('agnes_skinner', 42),\n",
       " ('sideshow_mel', 40),\n",
       " ('otto_mann', 32),\n",
       " ('fat_tony', 27),\n",
       " ('gil', 27),\n",
       " ('miss_hoover', 17),\n",
       " ('disco_stu', 8),\n",
       " ('troy_mcclure', 8),\n",
       " ('lionel_hutz', 3)]"
      ]
     },
     "execution_count": 5,
     "metadata": {},
     "output_type": "execute_result"
    }
   ],
   "source": [
    "char_dict={}\n",
    "for char in os.listdir(char_path):\n",
    "    char_dict[char]=len(os.listdir(os.path.join(char_path,char))) #how many images are in each character folder\n",
    "char_dict=caer.sort_dict(char_dict,descending=True)\n",
    "char_dict"
   ]
  },
  {
   "cell_type": "code",
   "execution_count": 6,
   "id": "3b6976b9",
   "metadata": {
    "execution": {
     "iopub.execute_input": "2023-05-25T07:22:49.297260Z",
     "iopub.status.busy": "2023-05-25T07:22:49.296484Z",
     "iopub.status.idle": "2023-05-25T07:22:49.303681Z",
     "shell.execute_reply": "2023-05-25T07:22:49.302769Z"
    },
    "papermill": {
     "duration": 0.018272,
     "end_time": "2023-05-25T07:22:49.305593",
     "exception": false,
     "start_time": "2023-05-25T07:22:49.287321",
     "status": "completed"
    },
    "tags": []
   },
   "outputs": [
    {
     "data": {
      "text/plain": [
       "['homer_simpson',\n",
       " 'ned_flanders',\n",
       " 'moe_szyslak',\n",
       " 'lisa_simpson',\n",
       " 'bart_simpson',\n",
       " 'marge_simpson',\n",
       " 'krusty_the_clown',\n",
       " 'principal_skinner',\n",
       " 'charles_montgomery_burns',\n",
       " 'milhouse_van_houten']"
      ]
     },
     "execution_count": 6,
     "metadata": {},
     "output_type": "execute_result"
    }
   ],
   "source": [
    "characters=list()\n",
    "count=0\n",
    "for i in char_dict:\n",
    "    characters.append(i[0])\n",
    "    count+=1\n",
    "    if count>=10:\n",
    "        break\n",
    "characters"
   ]
  },
  {
   "cell_type": "code",
   "execution_count": 7,
   "id": "ffb891b3",
   "metadata": {
    "execution": {
     "iopub.execute_input": "2023-05-25T07:22:49.325231Z",
     "iopub.status.busy": "2023-05-25T07:22:49.324296Z",
     "iopub.status.idle": "2023-05-25T07:25:28.406661Z",
     "shell.execute_reply": "2023-05-25T07:25:28.405663Z"
    },
    "papermill": {
     "duration": 159.104306,
     "end_time": "2023-05-25T07:25:28.418469",
     "exception": false,
     "start_time": "2023-05-25T07:22:49.314163",
     "status": "completed"
    },
    "tags": []
   },
   "outputs": [
    {
     "name": "stdout",
     "output_type": "stream",
     "text": [
      "[INFO] Could not find a file to load from. Generating the training data\n",
      "----------------------------------------------\n",
      "[INFO] At 1000 files\n",
      "[INFO] At 2000 files\n",
      "[INFO] 2246 files found in 3.5162267684936523s\n",
      "[INFO] At 1000 files\n",
      "[INFO] 1454 files found in 0.8451704978942871s\n",
      "[INFO] At 1000 files\n",
      "[INFO] 1452 files found in 0.8485133647918701s\n",
      "[INFO] At 1000 files\n",
      "[INFO] 1354 files found in 0.7144308090209961s\n",
      "[INFO] At 1000 files\n",
      "[INFO] 1342 files found in 0.6481683254241943s\n",
      "[INFO] At 1000 files\n",
      "[INFO] 1291 files found in 0.4853856563568115s\n",
      "[INFO] At 1000 files\n",
      "[INFO] 1206 files found in 0.1817784309387207s\n",
      "[INFO] At 1000 files\n",
      "[INFO] 1194 files found in 0.16763830184936523s\n",
      "[INFO] At 1000 files\n",
      "[INFO] 1193 files found in 0.14591550827026367s\n",
      "[INFO] At 1000 files\n",
      "[INFO] 1079 files found in 0.004395484924316406s\n",
      "----------------------------------------------\n",
      "[INFO] 13811 files preprocessed! Took 2m 39s\n"
     ]
    }
   ],
   "source": [
    "#Create train data\n",
    "train=caer.preprocess_from_dir(char_path,characters,channels=channels,IMG_SIZE=IMG_SIZE,isShuffle=True)"
   ]
  },
  {
   "cell_type": "code",
   "execution_count": 8,
   "id": "d86fc617",
   "metadata": {
    "execution": {
     "iopub.execute_input": "2023-05-25T07:25:28.439881Z",
     "iopub.status.busy": "2023-05-25T07:25:28.438653Z",
     "iopub.status.idle": "2023-05-25T07:25:28.446114Z",
     "shell.execute_reply": "2023-05-25T07:25:28.445287Z"
    },
    "papermill": {
     "duration": 0.019837,
     "end_time": "2023-05-25T07:25:28.448046",
     "exception": false,
     "start_time": "2023-05-25T07:25:28.428209",
     "status": "completed"
    },
    "tags": []
   },
   "outputs": [
    {
     "data": {
      "text/plain": [
       "13811"
      ]
     },
     "execution_count": 8,
     "metadata": {},
     "output_type": "execute_result"
    }
   ],
   "source": [
    "len(train)"
   ]
  },
  {
   "cell_type": "code",
   "execution_count": 9,
   "id": "05713857",
   "metadata": {
    "execution": {
     "iopub.execute_input": "2023-05-25T07:25:28.468276Z",
     "iopub.status.busy": "2023-05-25T07:25:28.467664Z",
     "iopub.status.idle": "2023-05-25T07:25:28.473466Z",
     "shell.execute_reply": "2023-05-25T07:25:28.472639Z"
    },
    "papermill": {
     "duration": 0.018,
     "end_time": "2023-05-25T07:25:28.475482",
     "exception": false,
     "start_time": "2023-05-25T07:25:28.457482",
     "status": "completed"
    },
    "tags": []
   },
   "outputs": [
    {
     "data": {
      "text/plain": [
       "3"
      ]
     },
     "execution_count": 9,
     "metadata": {},
     "output_type": "execute_result"
    }
   ],
   "source": [
    "train.shape #contains image and its corresponding label\n",
    "train[0][1]"
   ]
  },
  {
   "cell_type": "code",
   "execution_count": 10,
   "id": "5ed7d327",
   "metadata": {
    "execution": {
     "iopub.execute_input": "2023-05-25T07:25:28.496130Z",
     "iopub.status.busy": "2023-05-25T07:25:28.495882Z",
     "iopub.status.idle": "2023-05-25T07:25:28.866511Z",
     "shell.execute_reply": "2023-05-25T07:25:28.865579Z"
    },
    "papermill": {
     "duration": 0.383393,
     "end_time": "2023-05-25T07:25:28.868742",
     "exception": false,
     "start_time": "2023-05-25T07:25:28.485349",
     "status": "completed"
    },
    "tags": []
   },
   "outputs": [
    {
     "data": {
      "image/png": "[encoded data removed]",
      "text/plain": [
       "<Figure size 2000x1000 with 1 Axes>"
      ]
     },
     "metadata": {},
     "output_type": "display_data"
    }
   ],
   "source": [
    "plt.figure(figsize=(20,10))\n",
    "plt.imshow(train[0][0],cmap=\"gray\")\n",
    "plt.show()"
   ]
  },
  {
   "cell_type": "code",
   "execution_count": 11,
   "id": "896b4c64",
   "metadata": {
    "execution": {
     "iopub.execute_input": "2023-05-25T07:25:28.891771Z",
     "iopub.status.busy": "2023-05-25T07:25:28.891445Z",
     "iopub.status.idle": "2023-05-25T07:25:28.948494Z",
     "shell.execute_reply": "2023-05-25T07:25:28.947290Z"
    },
    "papermill": {
     "duration": 0.071463,
     "end_time": "2023-05-25T07:25:28.951136",
     "exception": false,
     "start_time": "2023-05-25T07:25:28.879673",
     "status": "completed"
    },
    "tags": []
   },
   "outputs": [],
   "source": [
    "featureSet,labels=caer.sep_train(train,IMG_SIZE=IMG_SIZE) "
   ]
  },
  {
   "cell_type": "code",
   "execution_count": 12,
   "id": "b863948a",
   "metadata": {
    "execution": {
     "iopub.execute_input": "2023-05-25T07:25:28.976510Z",
     "iopub.status.busy": "2023-05-25T07:25:28.974787Z",
     "iopub.status.idle": "2023-05-25T07:25:28.982521Z",
     "shell.execute_reply": "2023-05-25T07:25:28.981621Z"
    },
    "papermill": {
     "duration": 0.022403,
     "end_time": "2023-05-25T07:25:28.984765",
     "exception": false,
     "start_time": "2023-05-25T07:25:28.962362",
     "status": "completed"
    },
    "tags": []
   },
   "outputs": [
    {
     "data": {
      "text/plain": [
       "(13811, 80, 80, 1)"
      ]
     },
     "execution_count": 12,
     "metadata": {},
     "output_type": "execute_result"
    }
   ],
   "source": [
    "featureSet.shape"
   ]
  },
  {
   "cell_type": "code",
   "execution_count": 13,
   "id": "4ac39c61",
   "metadata": {
    "execution": {
     "iopub.execute_input": "2023-05-25T07:25:29.007760Z",
     "iopub.status.busy": "2023-05-25T07:25:29.007468Z",
     "iopub.status.idle": "2023-05-25T07:25:29.013221Z",
     "shell.execute_reply": "2023-05-25T07:25:29.012395Z"
    },
    "papermill": {
     "duration": 0.019234,
     "end_time": "2023-05-25T07:25:29.015167",
     "exception": false,
     "start_time": "2023-05-25T07:25:28.995933",
     "status": "completed"
    },
    "tags": []
   },
   "outputs": [
    {
     "data": {
      "text/plain": [
       "(13811,)"
      ]
     },
     "execution_count": 13,
     "metadata": {},
     "output_type": "execute_result"
    }
   ],
   "source": [
    "labels.shape"
   ]
  },
  {
   "cell_type": "code",
   "execution_count": 14,
   "id": "871a9ab7",
   "metadata": {
    "execution": {
     "iopub.execute_input": "2023-05-25T07:25:29.037681Z",
     "iopub.status.busy": "2023-05-25T07:25:29.036970Z",
     "iopub.status.idle": "2023-05-25T07:25:29.158419Z",
     "shell.execute_reply": "2023-05-25T07:25:29.157278Z"
    },
    "papermill": {
     "duration": 0.13517,
     "end_time": "2023-05-25T07:25:29.161018",
     "exception": false,
     "start_time": "2023-05-25T07:25:29.025848",
     "status": "completed"
    },
    "tags": []
   },
   "outputs": [],
   "source": [
    "#Normalizing the data\n",
    "featureSet=caer.normalize(featureSet)"
   ]
  },
  {
   "cell_type": "code",
   "execution_count": 15,
   "id": "801703ad",
   "metadata": {
    "execution": {
     "iopub.execute_input": "2023-05-25T07:25:29.184917Z",
     "iopub.status.busy": "2023-05-25T07:25:29.184577Z",
     "iopub.status.idle": "2023-05-25T07:25:29.191085Z",
     "shell.execute_reply": "2023-05-25T07:25:29.190244Z"
    },
    "papermill": {
     "duration": 0.02044,
     "end_time": "2023-05-25T07:25:29.193112",
     "exception": false,
     "start_time": "2023-05-25T07:25:29.172672",
     "status": "completed"
    },
    "tags": []
   },
   "outputs": [],
   "source": [
    "from tensorflow import keras\n",
    "from keras.utils import to_categorical\n",
    "labels=to_categorical(labels,len(characters))"
   ]
  },
  {
   "cell_type": "code",
   "execution_count": 16,
   "id": "3fac2971",
   "metadata": {
    "execution": {
     "iopub.execute_input": "2023-05-25T07:25:29.214709Z",
     "iopub.status.busy": "2023-05-25T07:25:29.214408Z",
     "iopub.status.idle": "2023-05-25T07:25:29.219863Z",
     "shell.execute_reply": "2023-05-25T07:25:29.218981Z"
    },
    "papermill": {
     "duration": 0.018444,
     "end_time": "2023-05-25T07:25:29.221764",
     "exception": false,
     "start_time": "2023-05-25T07:25:29.203320",
     "status": "completed"
    },
    "tags": []
   },
   "outputs": [
    {
     "data": {
      "text/plain": [
       "(13811, 10)"
      ]
     },
     "execution_count": 16,
     "metadata": {},
     "output_type": "execute_result"
    }
   ],
   "source": [
    "labels.shape"
   ]
  },
  {
   "cell_type": "code",
   "execution_count": 17,
   "id": "1f8df0e1",
   "metadata": {
    "execution": {
     "iopub.execute_input": "2023-05-25T07:25:29.244860Z",
     "iopub.status.busy": "2023-05-25T07:25:29.244061Z",
     "iopub.status.idle": "2023-05-25T07:25:29.598998Z",
     "shell.execute_reply": "2023-05-25T07:25:29.597981Z"
    },
    "papermill": {
     "duration": 0.369216,
     "end_time": "2023-05-25T07:25:29.601663",
     "exception": false,
     "start_time": "2023-05-25T07:25:29.232447",
     "status": "completed"
    },
    "tags": []
   },
   "outputs": [],
   "source": [
    "x_train,x_val,y_train,y_val=caer.train_val_split(featureSet,labels,val_ratio=.2)"
   ]
  },
  {
   "cell_type": "code",
   "execution_count": 18,
   "id": "cc537c7c",
   "metadata": {
    "execution": {
     "iopub.execute_input": "2023-05-25T07:25:29.627094Z",
     "iopub.status.busy": "2023-05-25T07:25:29.625411Z",
     "iopub.status.idle": "2023-05-25T07:25:29.858588Z",
     "shell.execute_reply": "2023-05-25T07:25:29.857644Z"
    },
    "papermill": {
     "duration": 0.24773,
     "end_time": "2023-05-25T07:25:29.860748",
     "exception": false,
     "start_time": "2023-05-25T07:25:29.613018",
     "status": "completed"
    },
    "tags": []
   },
   "outputs": [
    {
     "data": {
      "text/plain": [
       "0"
      ]
     },
     "execution_count": 18,
     "metadata": {},
     "output_type": "execute_result"
    }
   ],
   "source": [
    "#deleting unnecessary variables\n",
    "del train\n",
    "del featureSet \n",
    "del labels\n",
    "gc.collect()"
   ]
  },
  {
   "cell_type": "code",
   "execution_count": 19,
   "id": "bd14f4fb",
   "metadata": {
    "execution": {
     "iopub.execute_input": "2023-05-25T07:25:29.884294Z",
     "iopub.status.busy": "2023-05-25T07:25:29.884014Z",
     "iopub.status.idle": "2023-05-25T07:25:29.889125Z",
     "shell.execute_reply": "2023-05-25T07:25:29.888289Z"
    },
    "papermill": {
     "duration": 0.019231,
     "end_time": "2023-05-25T07:25:29.891152",
     "exception": false,
     "start_time": "2023-05-25T07:25:29.871921",
     "status": "completed"
    },
    "tags": []
   },
   "outputs": [],
   "source": [
    "BATCH_SIZE=32\n",
    "EPOCHS=10"
   ]
  },
  {
   "cell_type": "code",
   "execution_count": 20,
   "id": "67ded6dc",
   "metadata": {
    "execution": {
     "iopub.execute_input": "2023-05-25T07:25:29.913474Z",
     "iopub.status.busy": "2023-05-25T07:25:29.913213Z",
     "iopub.status.idle": "2023-05-25T07:25:29.918158Z",
     "shell.execute_reply": "2023-05-25T07:25:29.917127Z"
    },
    "papermill": {
     "duration": 0.018802,
     "end_time": "2023-05-25T07:25:29.920512",
     "exception": false,
     "start_time": "2023-05-25T07:25:29.901710",
     "status": "completed"
    },
    "tags": []
   },
   "outputs": [],
   "source": [
    "#Image data generator\n",
    "datagen=canaro.generators.imageDataGenerator()\n",
    "train_gen=datagen.flow(x_train,y_train,batch_size=BATCH_SIZE)\n",
    "x_train.shape\n",
    "y_train.shape\n",
    "train_gen\n",
    "val_gen=datagen.flow(x_val,y_val,batch_size=BATCH_SIZE)"
   ]
  },
  {
   "cell_type": "code",
   "execution_count": 21,
   "id": "8538b821",
   "metadata": {
    "execution": {
     "iopub.execute_input": "2023-05-25T07:25:29.943114Z",
     "iopub.status.busy": "2023-05-25T07:25:29.942854Z",
     "iopub.status.idle": "2023-05-25T07:25:29.975622Z",
     "shell.execute_reply": "2023-05-25T07:25:29.974674Z"
    },
    "papermill": {
     "duration": 0.046788,
     "end_time": "2023-05-25T07:25:29.978031",
     "exception": false,
     "start_time": "2023-05-25T07:25:29.931243",
     "status": "completed"
    },
    "tags": []
   },
   "outputs": [
    {
     "name": "stdout",
     "output_type": "stream",
     "text": [
      "(32, 80, 80, 1)\n",
      "(32, 10)\n"
     ]
    }
   ],
   "source": [
    "for data,label in train_gen:\n",
    "    print(data.shape)\n",
    "    print(label.shape[:2])\n",
    "    break"
   ]
  },
  {
   "cell_type": "code",
   "execution_count": 22,
   "id": "96100775",
   "metadata": {
    "execution": {
     "iopub.execute_input": "2023-05-25T07:25:30.002584Z",
     "iopub.status.busy": "2023-05-25T07:25:30.002273Z",
     "iopub.status.idle": "2023-05-25T07:25:30.006824Z",
     "shell.execute_reply": "2023-05-25T07:25:30.005866Z"
    },
    "papermill": {
     "duration": 0.018814,
     "end_time": "2023-05-25T07:25:30.008951",
     "exception": false,
     "start_time": "2023-05-25T07:25:29.990137",
     "status": "completed"
    },
    "tags": []
   },
   "outputs": [],
   "source": [
    "from keras.models import Sequential\n",
    "from keras.layers import Dense,Flatten,Conv2D,MaxPooling2D,Dropout"
   ]
  },
  {
   "cell_type": "code",
   "execution_count": 23,
   "id": "edc4a7ea",
   "metadata": {
    "execution": {
     "iopub.execute_input": "2023-05-25T07:25:30.034361Z",
     "iopub.status.busy": "2023-05-25T07:25:30.033986Z",
     "iopub.status.idle": "2023-05-25T07:25:34.668512Z",
     "shell.execute_reply": "2023-05-25T07:25:34.667784Z"
    },
    "papermill": {
     "duration": 4.672726,
     "end_time": "2023-05-25T07:25:34.693318",
     "exception": false,
     "start_time": "2023-05-25T07:25:30.020592",
     "status": "completed"
    },
    "tags": []
   },
   "outputs": [
    {
     "name": "stdout",
     "output_type": "stream",
     "text": [
      "Model: \"sequential\"\n",
      "_________________________________________________________________\n",
      " Layer (type)                Output Shape              Param #   \n",
      "=================================================================\n",
      " conv2d (Conv2D)             (None, 80, 80, 32)        320       \n",
      "                                                                 \n",
      " conv2d_1 (Conv2D)           (None, 78, 78, 32)        9248      \n",
      "                                                                 \n",
      " max_pooling2d (MaxPooling2D  (None, 39, 39, 32)       0         \n",
      " )                                                               \n",
      "                                                                 \n",
      " dropout (Dropout)           (None, 39, 39, 32)        0         \n",
      "                                                                 \n",
      " conv2d_2 (Conv2D)           (None, 39, 39, 64)        18496     \n",
      "                                                                 \n",
      " conv2d_3 (Conv2D)           (None, 37, 37, 64)        36928     \n",
      "                                                                 \n",
      " max_pooling2d_1 (MaxPooling  (None, 18, 18, 64)       0         \n",
      " 2D)                                                             \n",
      "                                                                 \n",
      " dropout_1 (Dropout)         (None, 18, 18, 64)        0         \n",
      "                                                                 \n",
      " conv2d_4 (Conv2D)           (None, 18, 18, 128)       73856     \n",
      "                                                                 \n",
      " conv2d_5 (Conv2D)           (None, 16, 16, 128)       147584    \n",
      "                                                                 \n",
      " max_pooling2d_2 (MaxPooling  (None, 8, 8, 128)        0         \n",
      " 2D)                                                             \n",
      "                                                                 \n",
      " dropout_2 (Dropout)         (None, 8, 8, 128)         0         \n",
      "                                                                 \n",
      " flatten (Flatten)           (None, 8192)              0         \n",
      "                                                                 \n",
      " dense (Dense)               (None, 1024)              8389632   \n",
      "                                                                 \n",
      " dense_1 (Dense)             (None, 10)                10250     \n",
      "                                                                 \n",
      "=================================================================\n",
      "Total params: 8,686,314\n",
      "Trainable params: 8,686,314\n",
      "Non-trainable params: 0\n",
      "_________________________________________________________________\n"
     ]
    }
   ],
   "source": [
    "model=Sequential()\n",
    "model.add(Conv2D(32,(3,3),input_shape=(80,80,1),padding='same',activation='relu'))\n",
    "model.add(Conv2D(32,(3,3),activation='relu'))\n",
    "model.add(MaxPooling2D(pool_size=(2,2)))\n",
    "model.add(Dropout(0.25))\n",
    "\n",
    "model.add(Conv2D(64,(3,3),padding='same',activation='relu'))\n",
    "model.add(Conv2D(64,(3,3),activation='relu'))\n",
    "model.add(MaxPooling2D(pool_size=(2,2)))\n",
    "model.add(Dropout(0.25))\n",
    "\n",
    "model.add(Conv2D(128,(3,3),padding='same',activation='relu'))\n",
    "model.add(Conv2D(128,(3,3),activation='relu'))\n",
    "model.add(MaxPooling2D(pool_size=(2,2)))\n",
    "model.add(Dropout(0.25))\n",
    "\n",
    "model.add(Flatten())\n",
    "model.add(Dense(1024,activation='relu'))\n",
    "model.add(Dense(10,activation='softmax'))\n",
    "model.compile(optimizer='adam',metrics=['accuracy'],loss='categorical_crossentropy')\n",
    "model.summary()"
   ]
  },
  {
   "cell_type": "code",
   "execution_count": 24,
   "id": "ed28e2d7",
   "metadata": {
    "execution": {
     "iopub.execute_input": "2023-05-25T07:25:34.722908Z",
     "iopub.status.busy": "2023-05-25T07:25:34.722598Z",
     "iopub.status.idle": "2023-05-25T07:25:34.726881Z",
     "shell.execute_reply": "2023-05-25T07:25:34.725979Z"
    },
    "papermill": {
     "duration": 0.020996,
     "end_time": "2023-05-25T07:25:34.728736",
     "exception": false,
     "start_time": "2023-05-25T07:25:34.707740",
     "status": "completed"
    },
    "tags": []
   },
   "outputs": [],
   "source": [
    "# from tensorflow.keras.callbacks import EarlyStopping\n",
    "# earlystop = EarlyStopping(monitor = 'val_accuracy',patience = 3,\n",
    "#                           verbose = 1,\n",
    "#                           mode='max',\n",
    "#                           restore_best_weights = True)\n",
    "# check='./Model.h5'\n",
    "# model_checkpoint_callback = tf.keras.callbacks.ModelCheckpoint(\n",
    "#     filepath=check,\n",
    "#     save_weights_only=False,\n",
    "#     monitor='val_accuracy',\n",
    "#     mode='max',\n",
    "#     save_best_only=True)\n",
    "# callback=[earlystop,model_checkpoint_callback]\n",
    "\n",
    "# model.fit(train_gen,validation_data=val_gen,epochs=10)"
   ]
  },
  {
   "cell_type": "code",
   "execution_count": null,
   "id": "6bf60c6f",
   "metadata": {
    "papermill": {
     "duration": 0.013609,
     "end_time": "2023-05-25T07:25:34.755712",
     "exception": false,
     "start_time": "2023-05-25T07:25:34.742103",
     "status": "completed"
    },
    "tags": []
   },
   "outputs": [],
   "source": []
  }
 ],
 "metadata": {
  "kernelspec": {
   "display_name": "Python 3",
   "language": "python",
   "name": "python3"
  },
  "language_info": {
   "codemirror_mode": {
    "name": "ipython",
    "version": 3
   },
   "file_extension": ".py",
   "mimetype": "text/x-python",
   "name": "python",
   "nbconvert_exporter": "python",
   "pygments_lexer": "ipython3",
   "version": "3.10.10"
  },
  "papermill": {
   "default_parameters": {},
   "duration": 209.968607,
   "end_time": "2023-05-25T07:25:38.114881",
   "environment_variables": {},
   "exception": null,
   "input_path": "__notebook__.ipynb",
   "output_path": "__notebook__.ipynb",
   "parameters": {},
   "start_time": "2023-05-25T07:22:08.146274",
   "version": "2.4.0"
  }
 },
 "nbformat": 4,
 "nbformat_minor": 5
}
